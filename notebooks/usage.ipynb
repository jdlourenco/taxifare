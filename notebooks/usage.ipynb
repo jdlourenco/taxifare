{
 "cells": [
  {
   "cell_type": "markdown",
   "metadata": {},
   "source": [
    "# Autoreload"
   ]
  },
  {
   "cell_type": "code",
   "execution_count": 1,
   "metadata": {},
   "outputs": [],
   "source": [
    "%load_ext autoreload\n",
    "%autoreload 2"
   ]
  },
  {
   "cell_type": "markdown",
   "metadata": {},
   "source": [
    "# Trainer using our package"
   ]
  },
  {
   "cell_type": "code",
   "execution_count": 11,
   "metadata": {},
   "outputs": [
    {
     "name": "stdout",
     "output_type": "stream",
     "text": [
      "get data\n",
      "(10000, 8)\n",
      "clean data\n",
      "(8502, 8)\n",
      "split into X and y\n",
      "holdout\n",
      "(7651, 7) (851, 7) (7651,) (851,)\n",
      "define model: create a pipeline\n",
      "Pipeline(steps=[('features',\n",
      "                 ColumnTransformer(transformers=[('distance',\n",
      "                                                  Pipeline(steps=[('distancetransformer',\n",
      "                                                                   DistanceTransformer()),\n",
      "                                                                  ('standardscaler',\n",
      "                                                                   StandardScaler())]),\n",
      "                                                  ['pickup_latitude',\n",
      "                                                   'pickup_longitude',\n",
      "                                                   'dropoff_latitude',\n",
      "                                                   'dropoff_longitude'])])),\n",
      "                ('model', RandomForestRegressor(max_depth=1))])\n",
      "train model\n",
      "evaluate\n",
      "rmse=6.304375510012808\n",
      "save model\n"
     ]
    }
   ],
   "source": [
    "from taxifare.trainer import Trainer\n",
    "trainer = Trainer(nrows=10000)\n",
    "fitted_pipeline = trainer.train()\n",
    "fitted_pipeline"
   ]
  },
  {
   "cell_type": "code",
   "execution_count": 14,
   "metadata": {},
   "outputs": [
    {
     "name": "stdout",
     "output_type": "stream",
     "text": [
      "get data\n",
      "(10000, 8)\n",
      "clean data\n",
      "(8502, 8)\n",
      "split into X and y\n",
      "holdout\n",
      "(7651, 7) (851, 7) (7651,) (851,)\n",
      "define model: create a pipeline\n",
      "Pipeline(steps=[('features',\n",
      "                 ColumnTransformer(transformers=[('distance',\n",
      "                                                  Pipeline(steps=[('distancetransformer',\n",
      "                                                                   DistanceTransformer()),\n",
      "                                                                  ('standardscaler',\n",
      "                                                                   StandardScaler())]),\n",
      "                                                  ['pickup_latitude',\n",
      "                                                   'pickup_longitude',\n",
      "                                                   'dropoff_latitude',\n",
      "                                                   'dropoff_longitude'])])),\n",
      "                ('model', RandomForestRegressor(max_depth=1))])\n",
      "train model\n",
      "evaluate\n",
      "rmse=6.291136633715451\n",
      "save model\n",
      "get data\n",
      "(10000, 8)\n",
      "clean data\n",
      "(8502, 8)\n",
      "split into X and y\n",
      "holdout\n",
      "(7651, 7) (851, 7) (7651,) (851,)\n",
      "define model: create a pipeline\n",
      "Pipeline(steps=[('features',\n",
      "                 ColumnTransformer(transformers=[('distance',\n",
      "                                                  Pipeline(steps=[('distancetransformer',\n",
      "                                                                   DistanceTransformer()),\n",
      "                                                                  ('standardscaler',\n",
      "                                                                   StandardScaler())]),\n",
      "                                                  ['pickup_latitude',\n",
      "                                                   'pickup_longitude',\n",
      "                                                   'dropoff_latitude',\n",
      "                                                   'dropoff_longitude'])])),\n",
      "                ('model', LinearRegression())])\n",
      "train model\n",
      "evaluate\n",
      "rmse=7.244993732289905\n",
      "save model\n"
     ]
    }
   ],
   "source": [
    "for estimator in [\"RandomForest\", \"LinearRegression\"]:\n",
    "    trainer = Trainer(nrows=10000, estimator=estimator)\n",
    "    fitted_pipeline = trainer.train()\n",
    "    #fitted_pipeline"
   ]
  },
  {
   "cell_type": "code",
   "execution_count": 15,
   "metadata": {},
   "outputs": [
    {
     "name": "stdout",
     "output_type": "stream",
     "text": [
      "total 280\r\n",
      "drwxr-xr-x   9 jdlourenco  staff    288 Feb 22 18:01 \u001b[1m\u001b[36m.\u001b[m\u001b[m\r\n",
      "drwxr-xr-x  16 jdlourenco  staff    512 Feb 22 17:12 \u001b[1m\u001b[36m..\u001b[m\u001b[m\r\n",
      "drwxr-xr-x   4 jdlourenco  staff    128 Feb 22 16:50 \u001b[1m\u001b[36m.ipynb_checkpoints\u001b[m\u001b[m\r\n",
      "-rw-r--r--   1 jdlourenco  staff      0 Feb 21 19:56 .keep\r\n",
      "-rw-r--r--   1 jdlourenco  staff   2419 Feb 22 18:01 LinearRegression.joblib\r\n",
      "-rw-r--r--   1 jdlourenco  staff  47943 Feb 22 18:01 RandomForest.joblib\r\n",
      "-rw-r--r--   1 jdlourenco  staff  19698 Feb 22 17:12 boilerplate.ipynb\r\n",
      "-rw-r--r--   1 jdlourenco  staff  47943 Feb 22 17:54 model.joblib\r\n",
      "-rw-r--r--   1 jdlourenco  staff  17617 Feb 22 18:00 usage.ipynb\r\n"
     ]
    }
   ],
   "source": [
    "!ls -la"
   ]
  },
  {
   "cell_type": "code",
   "execution_count": null,
   "metadata": {},
   "outputs": [
    {
     "data": {
      "text/plain": [
       "{'memory': None,\n",
       " 'steps': [('features',\n",
       "   ColumnTransformer(transformers=[('distance',\n",
       "                                    Pipeline(steps=[('distancetransformer',\n",
       "                                                     DistanceTransformer()),\n",
       "                                                    ('standardscaler',\n",
       "                                                     StandardScaler())]),\n",
       "                                    ['pickup_latitude', 'pickup_longitude',\n",
       "                                     'dropoff_latitude', 'dropoff_longitude'])])),\n",
       "  ('model', RandomForestRegressor(max_depth=1))],\n",
       " 'verbose': False,\n",
       " 'features': ColumnTransformer(transformers=[('distance',\n",
       "                                  Pipeline(steps=[('distancetransformer',\n",
       "                                                   DistanceTransformer()),\n",
       "                                                  ('standardscaler',\n",
       "                                                   StandardScaler())]),\n",
       "                                  ['pickup_latitude', 'pickup_longitude',\n",
       "                                   'dropoff_latitude', 'dropoff_longitude'])]),\n",
       " 'model': RandomForestRegressor(max_depth=1),\n",
       " 'features__n_jobs': None,\n",
       " 'features__remainder': 'drop',\n",
       " 'features__sparse_threshold': 0.3,\n",
       " 'features__transformer_weights': None,\n",
       " 'features__transformers': [('distance',\n",
       "   Pipeline(steps=[('distancetransformer', DistanceTransformer()),\n",
       "                   ('standardscaler', StandardScaler())]),\n",
       "   ['pickup_latitude',\n",
       "    'pickup_longitude',\n",
       "    'dropoff_latitude',\n",
       "    'dropoff_longitude'])],\n",
       " 'features__verbose': False,\n",
       " 'features__distance': Pipeline(steps=[('distancetransformer', DistanceTransformer()),\n",
       "                 ('standardscaler', StandardScaler())]),\n",
       " 'features__distance__memory': None,\n",
       " 'features__distance__steps': [('distancetransformer', DistanceTransformer()),\n",
       "  ('standardscaler', StandardScaler())],\n",
       " 'features__distance__verbose': False,\n",
       " 'features__distance__distancetransformer': DistanceTransformer(),\n",
       " 'features__distance__standardscaler': StandardScaler(),\n",
       " 'features__distance__distancetransformer__distance_type': 'euclidian',\n",
       " 'features__distance__standardscaler__copy': True,\n",
       " 'features__distance__standardscaler__with_mean': True,\n",
       " 'features__distance__standardscaler__with_std': True,\n",
       " 'model__bootstrap': True,\n",
       " 'model__ccp_alpha': 0.0,\n",
       " 'model__criterion': 'mse',\n",
       " 'model__max_depth': 1,\n",
       " 'model__max_features': 'auto',\n",
       " 'model__max_leaf_nodes': None,\n",
       " 'model__max_samples': None,\n",
       " 'model__min_impurity_decrease': 0.0,\n",
       " 'model__min_impurity_split': None,\n",
       " 'model__min_samples_leaf': 1,\n",
       " 'model__min_samples_split': 2,\n",
       " 'model__min_weight_fraction_leaf': 0.0,\n",
       " 'model__n_estimators': 100,\n",
       " 'model__n_jobs': None,\n",
       " 'model__oob_score': False,\n",
       " 'model__random_state': None,\n",
       " 'model__verbose': 0,\n",
       " 'model__warm_start': False}"
      ]
     },
     "execution_count": null,
     "metadata": {},
     "output_type": "execute_result"
    }
   ],
   "source": [
    "fitted_pipeline.get_params()"
   ]
  },
  {
   "cell_type": "markdown",
   "metadata": {},
   "source": [
    "# Trainer with params and gridsearch"
   ]
  },
  {
   "cell_type": "code",
   "execution_count": null,
   "metadata": {},
   "outputs": [
    {
     "data": {
      "text/plain": [
       "{'random_forest': GridSearchCV(cv=5,\n",
       "              estimator=Pipeline(steps=[('features',\n",
       "                                         ColumnTransformer(transformers=[('distance',\n",
       "                                                                          Pipeline(steps=[('distancetransformer',\n",
       "                                                                                           DistanceTransformer()),\n",
       "                                                                                          ('standardscaler',\n",
       "                                                                                           StandardScaler())]),\n",
       "                                                                          ['pickup_latitude',\n",
       "                                                                           'pickup_longitude',\n",
       "                                                                           'dropoff_latitude',\n",
       "                                                                           'dropoff_longitude'])])),\n",
       "                                        ('model',\n",
       "                                         RandomForestRegressor(max_depth=1))]),\n",
       "              param_grid={'features__distance__distancetransformer__distance_type': ['euclidian',\n",
       "                                                                                     'manhattan'],\n",
       "                          'features__distance__standardscaler__with_mean': [True,\n",
       "                                                                            False],\n",
       "                          'model__max_depth': [1, 2, 3]}),\n",
       " 'linear_regression': GridSearchCV(cv=5,\n",
       "              estimator=Pipeline(steps=[('features',\n",
       "                                         ColumnTransformer(transformers=[('distance',\n",
       "                                                                          Pipeline(steps=[('distancetransformer',\n",
       "                                                                                           DistanceTransformer()),\n",
       "                                                                                          ('standardscaler',\n",
       "                                                                                           StandardScaler())]),\n",
       "                                                                          ['pickup_latitude',\n",
       "                                                                           'pickup_longitude',\n",
       "                                                                           'dropoff_latitude',\n",
       "                                                                           'dropoff_longitude'])])),\n",
       "                                        ('model', LinearRegression())]),\n",
       "              param_grid={'features__distance__distancetransformer__distance_type': ['euclidian',\n",
       "                                                                                     'manhattan'],\n",
       "                          'features__distance__standardscaler__with_mean': [True,\n",
       "                                                                            False],\n",
       "                          'model__normalize': [True, False]})}"
      ]
     },
     "execution_count": null,
     "metadata": {},
     "output_type": "execute_result"
    }
   ],
   "source": [
    "params = dict(\n",
    "    random_forest = dict(\n",
    "        line_count = 1_000,\n",
    "        hyper_params = dict(\n",
    "            features__distance__distancetransformer__distance_type = [\"euclidian\", \"manhattan\"],\n",
    "            features__distance__standardscaler__with_mean = [True, False],\n",
    "            model__max_depth = [1, 2, 3]\n",
    "        )\n",
    "    ),\n",
    "    linear_regression = dict(\n",
    "        line_count = 1_000,\n",
    "        hyper_params = dict(\n",
    "            features__distance__distancetransformer__distance_type = [\"euclidian\", \"manhattan\"],\n",
    "            features__distance__standardscaler__with_mean = [True, False],\n",
    "            model__normalize = [True, False]\n",
    "        )\n",
    "    )\n",
    ")\n",
    "\n",
    "from taxifare.paramtrainer import ParamTrainer\n",
    "param_trainer = ParamTrainer()\n",
    "models = param_trainer.train(params)\n",
    "models"
   ]
  },
  {
   "cell_type": "code",
   "execution_count": null,
   "metadata": {},
   "outputs": [
    {
     "name": "stdout",
     "output_type": "stream",
     "text": [
      "-rw-r--r--  1 gmanchon  staff    777 Feb 16 22:24 linear_regression.joblib\r\n",
      "-rw-r--r--  1 gmanchon  staff  48800 Feb 16 22:24 model.joblib\r\n",
      "-rw-r--r--  1 gmanchon  staff   1302 Feb 16 22:24 random_forest.joblib\r\n"
     ]
    }
   ],
   "source": [
    "! ls -la *.joblib"
   ]
  },
  {
   "cell_type": "code",
   "execution_count": null,
   "metadata": {},
   "outputs": [
    {
     "data": {
      "text/plain": [
       "dict_keys(['scoring', 'estimator', 'n_jobs', 'iid', 'refit', 'cv', 'verbose', 'pre_dispatch', 'error_score', 'return_train_score', 'param_grid', 'multimetric_', 'best_index_', 'best_score_', 'best_params_', 'best_estimator_', 'refit_time_', 'scorer_', 'cv_results_', 'n_splits_'])"
      ]
     },
     "execution_count": null,
     "metadata": {},
     "output_type": "execute_result"
    }
   ],
   "source": [
    "models[\"random_forest\"].__dict__.keys()"
   ]
  },
  {
   "cell_type": "code",
   "execution_count": null,
   "metadata": {},
   "outputs": [
    {
     "data": {
      "text/plain": [
       "0.6841204518418557"
      ]
     },
     "execution_count": null,
     "metadata": {},
     "output_type": "execute_result"
    }
   ],
   "source": [
    "models[\"random_forest\"].best_score_"
   ]
  },
  {
   "cell_type": "code",
   "execution_count": null,
   "metadata": {},
   "outputs": [
    {
     "data": {
      "text/plain": [
       "{'features__distance__distancetransformer__distance_type': 'euclidian',\n",
       " 'features__distance__standardscaler__with_mean': False,\n",
       " 'model__max_depth': 3}"
      ]
     },
     "execution_count": null,
     "metadata": {},
     "output_type": "execute_result"
    }
   ],
   "source": [
    "models[\"random_forest\"].best_params_"
   ]
  },
  {
   "cell_type": "code",
   "execution_count": null,
   "metadata": {},
   "outputs": [
    {
     "data": {
      "text/plain": [
       "Pipeline(steps=[('features',\n",
       "                 ColumnTransformer(transformers=[('distance',\n",
       "                                                  Pipeline(steps=[('distancetransformer',\n",
       "                                                                   DistanceTransformer()),\n",
       "                                                                  ('standardscaler',\n",
       "                                                                   StandardScaler(with_mean=False))]),\n",
       "                                                  ['pickup_latitude',\n",
       "                                                   'pickup_longitude',\n",
       "                                                   'dropoff_latitude',\n",
       "                                                   'dropoff_longitude'])])),\n",
       "                ('model', RandomForestRegressor(max_depth=3))])"
      ]
     },
     "execution_count": null,
     "metadata": {},
     "output_type": "execute_result"
    }
   ],
   "source": [
    "models[\"random_forest\"].best_estimator_"
   ]
  },
  {
   "cell_type": "code",
   "execution_count": null,
   "metadata": {},
   "outputs": [
    {
     "data": {
      "text/plain": [
       "0.695787104216038"
      ]
     },
     "execution_count": null,
     "metadata": {},
     "output_type": "execute_result"
    }
   ],
   "source": [
    "models[\"linear_regression\"].best_score_"
   ]
  },
  {
   "cell_type": "code",
   "execution_count": null,
   "metadata": {},
   "outputs": [
    {
     "data": {
      "text/plain": [
       "{'features__distance__distancetransformer__distance_type': 'euclidian',\n",
       " 'features__distance__standardscaler__with_mean': True,\n",
       " 'model__normalize': True}"
      ]
     },
     "execution_count": null,
     "metadata": {},
     "output_type": "execute_result"
    }
   ],
   "source": [
    "models[\"linear_regression\"].best_params_"
   ]
  },
  {
   "cell_type": "code",
   "execution_count": null,
   "metadata": {},
   "outputs": [
    {
     "data": {
      "text/plain": [
       "Pipeline(steps=[('features',\n",
       "                 ColumnTransformer(transformers=[('distance',\n",
       "                                                  Pipeline(steps=[('distancetransformer',\n",
       "                                                                   DistanceTransformer()),\n",
       "                                                                  ('standardscaler',\n",
       "                                                                   StandardScaler())]),\n",
       "                                                  ['pickup_latitude',\n",
       "                                                   'pickup_longitude',\n",
       "                                                   'dropoff_latitude',\n",
       "                                                   'dropoff_longitude'])])),\n",
       "                ('model', LinearRegression(normalize=True))])"
      ]
     },
     "execution_count": null,
     "metadata": {},
     "output_type": "execute_result"
    }
   ],
   "source": [
    "models[\"linear_regression\"].best_estimator_"
   ]
  }
 ],
 "metadata": {
  "challengify": {
   "keep_output": true
  },
  "kernelspec": {
   "display_name": "Python 3 (ipykernel)",
   "language": "python",
   "name": "python3"
  },
  "language_info": {
   "codemirror_mode": {
    "name": "ipython",
    "version": 3
   },
   "file_extension": ".py",
   "mimetype": "text/x-python",
   "name": "python",
   "nbconvert_exporter": "python",
   "pygments_lexer": "ipython3",
   "version": "3.8.12"
  }
 },
 "nbformat": 4,
 "nbformat_minor": 4
}
